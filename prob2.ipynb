{
 "cells": [
  {
   "cell_type": "code",
   "execution_count": 51,
   "metadata": {},
   "outputs": [],
   "source": [
    "import csv\n",
    "import tarfile\n",
    "import io\n",
    "import psycopg2\n",
    "import pandas as pd"
   ]
  },
  {
   "cell_type": "code",
   "execution_count": 55,
   "metadata": {
    "collapsed": true
   },
   "outputs": [],
   "source": [
    "class Course:\n",
    "    def __init__(self, cid, term):\n",
    "        self.cid = cid\n",
    "        self.term = term\n",
    "        self.info = {}\n",
    "        self.meetings = []\n",
    "        self.enrollment = pd.DataFrame(columns=['SEAT', 'SID', 'SURNAME', 'PREFNAME', 'LEVEL', 'UNITS', 'CLASS', 'MAJOR', 'GRADE', 'STATUS', 'EMAIL'])\n",
    "    \n",
    "    def add_meeting(self, meeting):\n",
    "        if type(meeting) == dict:\n",
    "            self.meetings.append(meeting)\n",
    "        elif type(meeting) == list:\n",
    "            self.meetings.extend(meeting)\n",
    "            \n",
    "    def add_enrollment(self, df):\n",
    "        self.enrollment = df\n",
    "            \n",
    "    def add_course_info(self, course_info):\n",
    "        self.info = course_info"
   ]
  },
  {
   "cell_type": "code",
   "execution_count": 56,
   "metadata": {
    "collapsed": true
   },
   "outputs": [],
   "source": [
    "def determine_row_type(big_list):\n",
    "    if big_list[0][0] == \"CID\":\n",
    "        return(\"CID\")\n",
    "        # class information\n",
    "        # read one more line to get class information\n",
    "        \n",
    "    elif big_list[0][0] == \"INSTRUCTOR(S)\":\n",
    "        return(\"meet\")\n",
    "        \n",
    "    elif big_list[0][0] == \"SEAT\":\n",
    "        return(\"enroll\")\n",
    "    else:\n",
    "        print(\"Don't know how to handle \" + str(big_list[0][0]))"
   ]
  },
  {
   "cell_type": "code",
   "execution_count": 99,
   "metadata": {
    "collapsed": true
   },
   "outputs": [],
   "source": [
    "def parse_CID(big_list):\n",
    "    d = {}\n",
    "    \n",
    "    if len(big_list) > 2:\n",
    "            print(\"List longer than 2 \" + str(big_list))\n",
    "            \n",
    "    if len(big_list) == 1:\n",
    "        d = {}\n",
    "        d[\"CID\"] = None\n",
    "        d[\"TERM\"] = None\n",
    "        d[\"SUBJ\"] = None\n",
    "        d[\"CRSE\"] = None\n",
    "        d[\"SEC\"] = None\n",
    "        d[\"UNITS\"] = None\n",
    "        return(d)\n",
    "    else:\n",
    "        try:\n",
    "            li = big_list[1]\n",
    "            if len(li) != 6:\n",
    "                print(\"Length of Course is not 6. Re-evaluate \" + str(li))\n",
    "            d[\"CID\"] = li[0]\n",
    "            d[\"TERM\"] = li[1]\n",
    "            d[\"SUBJ\"] = li[2]\n",
    "            d[\"CRSE\"] = li[3]\n",
    "            d[\"SEC\"] = li[4]\n",
    "            d[\"UNITS\"] = li[5]\n",
    "            return(d)\n",
    "\n",
    "        except:\n",
    "            print(\"Error when parsing CID\")"
   ]
  },
  {
   "cell_type": "code",
   "execution_count": 118,
   "metadata": {
    "collapsed": true
   },
   "outputs": [],
   "source": [
    "def parse_meeting(big_list):\n",
    "    d = {}\n",
    "    if len(big_list) == 1: # no listings\n",
    "        d[\"INSTR\"] = None\n",
    "        d[\"TYPE\"] = None\n",
    "        d[\"DAYS\"] = None\n",
    "        d[\"TIME\"] = None\n",
    "        d[\"BUILD\"] = None\n",
    "        d[\"ROOM\"] = None\n",
    "        return d\n",
    "    \n",
    "    try:\n",
    "        meeting_list = []\n",
    "        for idx, li in enumerate(big_list):\n",
    "            if idx == 0: # skip over header\n",
    "                continue\n",
    "            d = {}\n",
    "            if idx == 1:\n",
    "                first_instructor = li[0]\n",
    "            if li[0] == '' and idx > 0:\n",
    "                d[\"INSTR\"] = first_instructor\n",
    "            else:\n",
    "                d[\"INSTR\"] = li[0]\n",
    "            if len(li) != 6:\n",
    "                print(\"Length of meeting is not 6. Re-evaluate \" + str(li))\n",
    "            d[\"TYPE\"] = li[1]\n",
    "            d[\"DAYS\"] = li[2]\n",
    "            d[\"TIME\"] = li[3]\n",
    "            d[\"BUILD\"] = li[4]\n",
    "            d[\"ROOM\"] = li[5]\n",
    "            \n",
    "            meeting_list.append(d)\n",
    "            \n",
    "        return(meeting_list)\n",
    "    \n",
    "    except:\n",
    "        print(\"Error when parsing Meeting \" + str(big_list))"
   ]
  },
  {
   "cell_type": "code",
   "execution_count": 121,
   "metadata": {
    "collapsed": true
   },
   "outputs": [],
   "source": [
    "def parse_enrollment(big_list):\n",
    "    cols = ['SEAT', 'SID', 'SURNAME', 'PREFNAME', 'LEVEL', 'UNITS', 'CLASS', 'MAJOR', 'GRADE', 'STATUS', 'EMAIL']\n",
    "    df = pd.DataFrame(columns=cols)\n",
    "    \n",
    "    if len(big_list) == 0: # no listings\n",
    "        return df\n",
    "    \n",
    "    #try:\n",
    "    for li in big_list[1:]:\n",
    "        if len(li) != 11:\n",
    "            print(\"Length of enrollment is not 11. Re-evaluate \" + str(li))\n",
    "        d = {}\n",
    "        d[\"SEAT\"] = li[0]\n",
    "        d[\"SID\"] = li[1]\n",
    "        d[\"SURNAME\"] = li[2]\n",
    "        d[\"PREFNAME\"] = li[3]\n",
    "        d[\"LEVEL\"] = li[4]\n",
    "        d[\"UNITS\"] = li[5]\n",
    "        d[\"CLASS\"] = li[6]\n",
    "        d[\"MAJOR\"] = li[7]\n",
    "        d[\"GRADE\"] = li[8]\n",
    "        d[\"STATUS\"] = li[9]\n",
    "        d[\"EMAIL\"] = li[10]\n",
    "        df = df.append(d, ignore_index=True)\n",
    "    return(df)\n",
    "        \n",
    "    #except:\n",
    "    #    print(\"Error when parsing Enrollment \" + str(big_list))"
   ]
  },
  {
   "cell_type": "code",
   "execution_count": 129,
   "metadata": {},
   "outputs": [
    {
     "name": "stdout",
     "output_type": "stream",
     "text": [
      "<TarInfo 'Grades' at 0x27100d09f20>\n",
      "<TarInfo 'Grades/2002_Q3.csv' at 0x2716b7ffa70>\n",
      "<TarInfo 'Grades/2010_Q3.csv' at 0x2716b7ff9a8>\n",
      "<TarInfo 'Grades/1994_Q4.csv' at 0x2716b7ffd90>\n",
      "<TarInfo 'Grades/2010_Q2.csv' at 0x2716b7ffe58>\n",
      "<TarInfo 'Grades/2002_Q2.csv' at 0x2716b7fff20>\n",
      "<TarInfo 'Grades/1996_Q1.csv' at 0x2716b7ff8e0>\n",
      "<TarInfo 'Grades/1998_Q4.csv' at 0x2716b8ef110>\n",
      "<TarInfo 'Grades/1996_Q3.csv' at 0x2716b8ef048>\n",
      "<TarInfo 'Grades/2010_Q1.csv' at 0x2716b8ef1d8>\n",
      "<TarInfo 'Grades/2000_Q4.csv' at 0x2716b8ef2a0>\n"
     ]
    }
   ],
   "source": [
    "tar = tarfile.open(\"Grades.tgz\", \"r:gz\")\n",
    "i = 0\n",
    "courses = {}\n",
    "for member in tar.getmembers():\n",
    "    print(member)\n",
    "    i += 1\n",
    "    if i > 10: ###### remove this later\n",
    "        break\n",
    "        \n",
    "    f = tar.extractfile(member)\n",
    "    if f is not None:\n",
    "        big_list = []\n",
    "        csv_file = io.StringIO(f.read().decode('ascii'))\n",
    "        reader = csv.reader(csv_file)\n",
    "        content = list(reader)\n",
    "        csv_length = len(content)\n",
    "\n",
    "        for idx, row in enumerate(content):\n",
    "            if row != [''] and idx < csv_length:\n",
    "                big_list.append(row)\n",
    "                if idx < csv_length - 1:\n",
    "                    continue\n",
    "                \n",
    "            if big_list != []:\n",
    "                row_type = determine_row_type(big_list)\n",
    "                if row_type == \"CID\":\n",
    "                    info = parse_CID(big_list)\n",
    "                    (cid, term) = big_list[1][0], big_list[1][1]\n",
    "                    x = Course(big_list[1][0], big_list[1][1])\n",
    "                    x.add_course_info(info)\n",
    "                    \n",
    "                if row_type == \"meet\":\n",
    "                    meeting = parse_meeting(big_list)\n",
    "                    x.add_meeting(meeting)\n",
    "                    \n",
    "                if row_type == \"enroll\":\n",
    "                    enroll = parse_enrollment(big_list)\n",
    "                    x.add_enrollment(enroll)\n",
    "                    courses[(cid, term)] = x\n",
    "                    \n",
    "            if row == ['']:\n",
    "                big_list = []"
   ]
  },
  {
   "cell_type": "code",
   "execution_count": null,
   "metadata": {
    "collapsed": true
   },
   "outputs": [],
   "source": [
    "conn = psycopg2.connect(\"dbname=fakeu user=postgres\")\n",
    "cur = conn.cursor()"
   ]
  },
  {
   "cell_type": "code",
   "execution_count": null,
   "metadata": {
    "collapsed": true
   },
   "outputs": [],
   "source": [
    "cur.execute(\"CREATE TABLE test (id serial PRIMARY KEY, num integer, data varchar);\")\n",
    "cur.execute(\"INSERT INTO test (num, data) VALUES (%s, %s)\", (100, \"abc'def\"))\n",
    "cur.execute(\"SELECT * FROM test;\")\n",
    "cur.fetchone()"
   ]
  },
  {
   "cell_type": "code",
   "execution_count": null,
   "metadata": {
    "collapsed": true
   },
   "outputs": [],
   "source": [
    "conn.commit()"
   ]
  },
  {
   "cell_type": "code",
   "execution_count": null,
   "metadata": {
    "collapsed": true
   },
   "outputs": [],
   "source": [
    "cur.close()\n",
    "conn.close()"
   ]
  }
 ],
 "metadata": {
  "kernelspec": {
   "display_name": "Python 3",
   "language": "python",
   "name": "python3"
  },
  "language_info": {
   "codemirror_mode": {
    "name": "ipython",
    "version": 3
   },
   "file_extension": ".py",
   "mimetype": "text/x-python",
   "name": "python",
   "nbconvert_exporter": "python",
   "pygments_lexer": "ipython3",
   "version": "3.6.0"
  }
 },
 "nbformat": 4,
 "nbformat_minor": 2
}
